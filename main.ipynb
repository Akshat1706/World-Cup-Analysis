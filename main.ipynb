{
 "cells": [
  {
   "cell_type": "code",
   "execution_count": 44,
   "metadata": {},
   "outputs": [
    {
     "data": {
      "text/plain": [
       "result\n",
       "Home Team Win    488\n",
       "Draw             190\n",
       "Away Team Win    174\n",
       "Name: count, dtype: int64"
      ]
     },
     "execution_count": 44,
     "metadata": {},
     "output_type": "execute_result"
    }
   ],
   "source": [
    "import numpy as np\n",
    "import pandas as pd\n",
    "\n",
    "matches = pd.read_csv(\"WorldCupMatches.csv\")\n",
    "players = pd.read_csv(\"WorldCupPlayers.csv\")\n",
    "world_cup = pd.read_csv(\"WorldCups.csv\")\n",
    "\n",
    "# matches.tail()\n",
    "\n",
    "matches.dropna(subset=[\"Year\"], inplace=True)#Removes all the colums and rows which have no data in the year coloumn\n",
    "matches.tail()\n",
    "\n",
    "most_world_cup_played_team = matches['Home Team Name'].value_counts()#A variable with the teams with the most world cup and the leat world cups 5 teams \n",
    "\n",
    "# most_world_cup_played_team\n",
    "\n",
    "most_wins = world_cup['Winner'].value_counts()#The team with the most world cup wins\n",
    "# most_wins\n",
    "\n",
    "second_place = world_cup['Runners-Up'].value_counts() #List the teams with the most second postiion scored\n",
    "# second_place\n",
    "\n",
    "third_place = world_cup['Third'].value_counts()\n",
    "# third_place\n",
    "\n",
    "best_performance = pd.concat([most_wins, second_place, third_place], axis=1)#Concat means that is concacenates all these three tables into one\n",
    "best_performance.fillna(0, inplace=True)#Fills all the nan colums with zero\n",
    "best_performance = best_performance.astype(int)#removes the floating point and converts it into int\n",
    "# best_performance\n",
    "\n",
    "# matches.head(2)\n",
    "home_team  = matches[['Home Team Name', \"Home Team Goals\"]].dropna()#Combines the name and goals of home team and removes nan values\n",
    "away_team  = matches[['Away Team Name', \"Away Team Goals\"]].dropna()#Combines the name and goals of home team and removes nan values\n",
    "\n",
    "home_team.columns = ['Countries', 'Goals']\n",
    "away_team.columns = home_team.columns\n",
    "\n",
    "\n",
    "goals = home_team._append(away_team, ignore_index = True)\n",
    "goals = goals.groupby('Countries').sum()#Displays the country alongside their gaols\n",
    "goals = goals.sort_values(by='Goals', ascending=False)#Puts the goals in descnding order\n",
    "# goals\n",
    "\n",
    "def calculate_ouput(matches):\n",
    "    if matches['Home Team Goals'] > matches['Away Team Goals']:\n",
    "        return 'Home Team Win'\n",
    "    if matches['Home Team Goals'] < matches['Away Team Goals']:\n",
    "        return 'Away Team Win'\n",
    "    return 'Draw'\n",
    "\n",
    "matches['result'] = matches.apply(lambda x: calculate_ouput(x), axis=1)#Creates a new coloum with the outcome\n",
    "matches.head()\n",
    "\n",
    "match_outcome_count = matches['result'].value_counts()#Gives the number of home team wins draw and loss\n",
    "# match_outcome_count\n",
    "\n"
   ]
  },
  {
   "cell_type": "code",
   "execution_count": null,
   "metadata": {},
   "outputs": [],
   "source": []
  },
  {
   "cell_type": "code",
   "execution_count": null,
   "metadata": {},
   "outputs": [],
   "source": []
  }
 ],
 "metadata": {
  "kernelspec": {
   "display_name": "Python 3",
   "language": "python",
   "name": "python3"
  },
  "language_info": {
   "codemirror_mode": {
    "name": "ipython",
    "version": 3
   },
   "file_extension": ".py",
   "mimetype": "text/x-python",
   "name": "python",
   "nbconvert_exporter": "python",
   "pygments_lexer": "ipython3",
   "version": "3.12.0"
  }
 },
 "nbformat": 4,
 "nbformat_minor": 2
}
